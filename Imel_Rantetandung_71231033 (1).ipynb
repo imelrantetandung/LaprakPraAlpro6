{
  "nbformat": 4,
  "nbformat_minor": 0,
  "metadata": {
    "colab": {
      "provenance": []
    },
    "kernelspec": {
      "name": "python3",
      "display_name": "Python 3"
    },
    "language_info": {
      "name": "python"
    }
  },
  "cells": [
    {
      "cell_type": "code",
      "execution_count": null,
      "metadata": {
        "id": "klAoCoULm2e_"
      },
      "outputs": [],
      "source": [
        "#SOAL NO. 1\n",
        "n = int(input(\"masukkan angka : \"))\n",
        "\n",
        "while n > 1 :\n",
        "    a = True\n",
        "    for i in range (2,n):\n",
        "        if (n % i) == 0 :\n",
        "            a = False\n",
        "            break\n",
        "    if a :\n",
        "        print(n)\n",
        "        break\n",
        "    n = n - 1"
      ]
    },
    {
      "cell_type": "code",
      "source": [
        "#SOAL NO.2\n",
        "n = int(input(\"masukkan angka : \"))\n",
        "\n",
        "for i in range(n, 0, -1):\n",
        "    a = 1\n",
        "    for j in range(1, i+1):\n",
        "        a = a * j\n",
        "    print(a, end=\" \")\n",
        "    for j in range (i,0,-1):\n",
        "        print(j,end=\" \")\n",
        "    print()\n"
      ],
      "metadata": {
        "id": "lVOWqIYHm6RY"
      },
      "execution_count": null,
      "outputs": []
    },
    {
      "cell_type": "code",
      "source": [
        "#SOAL NO.3\n",
        "n = int(input(\"Masukkan tinggi: \"))\n",
        "m = int(input(\"Masukkan lebar: \"))\n",
        "\n",
        "for i in range(1, n+1):\n",
        "    for j in range(1, m+1):\n",
        "        print((i-1)*m + j, end=\" \")\n",
        "    print()\n"
      ],
      "metadata": {
        "id": "JWFWuuT9nBYz"
      },
      "execution_count": null,
      "outputs": []
    }
  ]
}